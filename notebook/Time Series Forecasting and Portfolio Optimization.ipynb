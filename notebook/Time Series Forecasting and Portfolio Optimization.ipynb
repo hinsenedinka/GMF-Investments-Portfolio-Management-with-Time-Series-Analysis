{
 "cells": [
  {
   "cell_type": "markdown",
   "id": "dd12db2d",
   "metadata": {},
   "source": [
    "**Time Series Forecasting and Portfolio Optimization**"
   ]
  },
  {
   "cell_type": "code",
   "execution_count": 1,
   "id": "70f2933b",
   "metadata": {},
   "outputs": [],
   "source": [
    "import pandas as pd\n",
    "import numpy as np\n",
    "import matplotlib.pyplot as plt\n",
    "import seaborn as sns\n",
    "import yfinance as yf"
   ]
  },
  {
   "cell_type": "markdown",
   "id": "e1c8660f",
   "metadata": {},
   "source": [
    "**Fetching Data**"
   ]
  },
  {
   "cell_type": "code",
   "execution_count": 3,
   "id": "aefb1ef0",
   "metadata": {},
   "outputs": [
    {
     "name": "stderr",
     "output_type": "stream",
     "text": [
      "C:\\Users\\hp\\AppData\\Local\\Temp\\ipykernel_10248\\1717365924.py:8: FutureWarning: YF.download() has changed argument auto_adjust default to True\n",
      "  data=yf.download(assets,start=start_date,end=end_date)\n"
     ]
    },
    {
     "name": "stderr",
     "output_type": "stream",
     "text": [
      "[*********************100%***********************]  3 of 3 completed\n"
     ]
    },
    {
     "name": "stdout",
     "output_type": "stream",
     "text": [
      "data.shape: (2535, 15)\n",
      "\n",
      "Data Columns:\n",
      "['Close', 'High', 'Low', 'Open', 'Volume']\n",
      "\n",
      " First 5 rows of the dataset\n",
      "Price           Close                              High              \\\n",
      "Ticker            BND         SPY       TSLA        BND         SPY   \n",
      "Date                                                                  \n",
      "2015-07-01  60.816753  174.917084  17.943333  60.914479  175.363859   \n",
      "2015-07-02  60.967052  174.756897  18.667999  61.027194  175.566157   \n",
      "2015-07-06  61.177597  174.259613  18.648001  61.222706  175.043573   \n",
      "2015-07-07  61.237740  175.355408  17.858667  61.470781  175.481849   \n",
      "2015-07-08  61.410641  172.413467  16.997334  61.463263  174.293296   \n",
      "\n",
      "Price                        Low                              Open  \\\n",
      "Ticker           TSLA        BND         SPY       TSLA        BND   \n",
      "Date                                                                 \n",
      "2015-07-01  18.174667  60.764131  174.124686  17.856667  60.794202   \n",
      "2015-07-02  18.830000  60.936982  174.335410  18.220667  60.936982   \n",
      "2015-07-06  18.779333  61.057320  173.256472  18.420000  61.222706   \n",
      "2015-07-07  18.346666  61.237740  172.059377  17.384666  61.410645   \n",
      "2015-07-08  17.386667  61.312909  172.177436  16.954000  61.373051   \n",
      "\n",
      "Price                               Volume                        \n",
      "Ticker             SPY       TSLA      BND        SPY       TSLA  \n",
      "Date                                                              \n",
      "2015-07-01  175.110964  18.073999  5399300  135979900   31518000  \n",
      "2015-07-02  175.397565  18.680000  1060100  104373700  107458500  \n",
      "2015-07-06  173.458790  18.591999  2210700  117975400   61828500  \n",
      "2015-07-07  174.461858  18.333332  4183200  173820200   91576500  \n",
      "2015-07-08  174.006688  17.288000  1967800  164020100   93316500  \n",
      "\n",
      " Missing Values:\n",
      "Ticker\n",
      "BND     0\n",
      "SPY     0\n",
      "TSLA    0\n",
      "dtype: int64\n",
      "Ticker\n",
      "BND     0\n",
      "SPY     0\n",
      "TSLA    0\n",
      "dtype: int64\n"
     ]
    }
   ],
   "source": [
    "# Time period\n",
    "start_date=\"2015-07-01\"\n",
    "end_date=\"2025-07-31\"\n",
    "# asset\n",
    "assets=['TSLA','BND','SPY']\n",
    "\n",
    "# Extracting Data\n",
    "data=yf.download(assets,start=start_date,end=end_date)\n",
    "\n",
    "# Generic Statistical Description\n",
    "\n",
    "print(\"data.shape:\", data.shape)\n",
    "print(\"\\nData Columns:\")\n",
    "print(data.columns.levels[0].tolist())\n",
    "\n",
    "# Highight of the dataset\n",
    "print(\"\\n First 5 rows of the dataset\")\n",
    "print(data.head())\n",
    "\n",
    "# Extractiong of Adjusted Close prices\n",
    "price=data['Close'].copy()\n",
    "\n",
    "# Searching for missing values\n",
    "print(\"\\n Missing Values:\")\n",
    "print(price.isna().sum())\n",
    "print(price.isna().sum())\n",
    "\n",
    "# Replacing Missing values with forwardfill\n",
    "if price.isna().sum().any():\n",
    "    price=price.fillna(method='ffill')\n",
    "    print(\"Missing values filled using forward fill\")"
   ]
  },
  {
   "cell_type": "code",
   "execution_count": null,
   "id": "0fcaba64",
   "metadata": {},
   "outputs": [],
   "source": []
  }
 ],
 "metadata": {
  "kernelspec": {
   "display_name": ".venv",
   "language": "python",
   "name": "python3"
  },
  "language_info": {
   "codemirror_mode": {
    "name": "ipython",
    "version": 3
   },
   "file_extension": ".py",
   "mimetype": "text/x-python",
   "name": "python",
   "nbconvert_exporter": "python",
   "pygments_lexer": "ipython3",
   "version": "3.13.3"
  }
 },
 "nbformat": 4,
 "nbformat_minor": 5
}
